{
 "cells": [
  {
   "cell_type": "markdown",
   "id": "dea25064",
   "metadata": {},
   "source": [
    "## Problem Statement"
   ]
  },
  {
   "cell_type": "markdown",
   "id": "baa9183c",
   "metadata": {},
   "source": [
    "Forecast about the stock price "
   ]
  },
  {
   "cell_type": "markdown",
   "id": "7ea3276e",
   "metadata": {},
   "source": [
    "### Importing Liabraries"
   ]
  },
  {
   "cell_type": "code",
   "execution_count": 3,
   "id": "8fc10a7f",
   "metadata": {},
   "outputs": [],
   "source": [
    "import pandas as pd\n",
    "import numpy as np\n",
    "import matplotlib.pyplot as plt\n",
    "import seaborn as sns"
   ]
  },
  {
   "cell_type": "code",
   "execution_count": 11,
   "id": "f7fb79f2",
   "metadata": {},
   "outputs": [
    {
     "data": {
      "text/html": [
       "<div>\n",
       "<style scoped>\n",
       "    .dataframe tbody tr th:only-of-type {\n",
       "        vertical-align: middle;\n",
       "    }\n",
       "\n",
       "    .dataframe tbody tr th {\n",
       "        vertical-align: top;\n",
       "    }\n",
       "\n",
       "    .dataframe thead th {\n",
       "        text-align: right;\n",
       "    }\n",
       "</style>\n",
       "<table border=\"1\" class=\"dataframe\">\n",
       "  <thead>\n",
       "    <tr style=\"text-align: right;\">\n",
       "      <th></th>\n",
       "      <th>Date</th>\n",
       "      <th>Price</th>\n",
       "      <th>Open</th>\n",
       "      <th>High</th>\n",
       "      <th>Low</th>\n",
       "      <th>Vol.</th>\n",
       "      <th>Change %</th>\n",
       "    </tr>\n",
       "  </thead>\n",
       "  <tbody>\n",
       "    <tr>\n",
       "      <th>0</th>\n",
       "      <td>Aug 07, 2020</td>\n",
       "      <td>190.65</td>\n",
       "      <td>191.45</td>\n",
       "      <td>192.10</td>\n",
       "      <td>189.55</td>\n",
       "      <td>44.82M</td>\n",
       "      <td>-0.16%</td>\n",
       "    </tr>\n",
       "    <tr>\n",
       "      <th>1</th>\n",
       "      <td>Aug 06, 2020</td>\n",
       "      <td>190.95</td>\n",
       "      <td>192.30</td>\n",
       "      <td>194.50</td>\n",
       "      <td>190.25</td>\n",
       "      <td>59.74M</td>\n",
       "      <td>-0.26%</td>\n",
       "    </tr>\n",
       "    <tr>\n",
       "      <th>2</th>\n",
       "      <td>Aug 05, 2020</td>\n",
       "      <td>191.45</td>\n",
       "      <td>192.75</td>\n",
       "      <td>196.85</td>\n",
       "      <td>191.00</td>\n",
       "      <td>68.89M</td>\n",
       "      <td>-0.08%</td>\n",
       "    </tr>\n",
       "    <tr>\n",
       "      <th>3</th>\n",
       "      <td>Aug 04, 2020</td>\n",
       "      <td>191.60</td>\n",
       "      <td>193.35</td>\n",
       "      <td>193.80</td>\n",
       "      <td>190.50</td>\n",
       "      <td>43.87M</td>\n",
       "      <td>-0.34%</td>\n",
       "    </tr>\n",
       "    <tr>\n",
       "      <th>4</th>\n",
       "      <td>Aug 03, 2020</td>\n",
       "      <td>192.25</td>\n",
       "      <td>192.00</td>\n",
       "      <td>194.60</td>\n",
       "      <td>190.05</td>\n",
       "      <td>72.46M</td>\n",
       "      <td>0.42%</td>\n",
       "    </tr>\n",
       "    <tr>\n",
       "      <th>...</th>\n",
       "      <td>...</td>\n",
       "      <td>...</td>\n",
       "      <td>...</td>\n",
       "      <td>...</td>\n",
       "      <td>...</td>\n",
       "      <td>...</td>\n",
       "      <td>...</td>\n",
       "    </tr>\n",
       "    <tr>\n",
       "      <th>1380</th>\n",
       "      <td>Jan 07, 2015</td>\n",
       "      <td>300.15</td>\n",
       "      <td>300.00</td>\n",
       "      <td>302.55</td>\n",
       "      <td>295.15</td>\n",
       "      <td>15.05M</td>\n",
       "      <td>0.08%</td>\n",
       "    </tr>\n",
       "    <tr>\n",
       "      <th>1381</th>\n",
       "      <td>Jan 06, 2015</td>\n",
       "      <td>299.90</td>\n",
       "      <td>310.00</td>\n",
       "      <td>311.10</td>\n",
       "      <td>298.70</td>\n",
       "      <td>15.33M</td>\n",
       "      <td>-4.11%</td>\n",
       "    </tr>\n",
       "    <tr>\n",
       "      <th>1382</th>\n",
       "      <td>Jan 05, 2015</td>\n",
       "      <td>312.75</td>\n",
       "      <td>316.25</td>\n",
       "      <td>316.80</td>\n",
       "      <td>312.10</td>\n",
       "      <td>9.14M</td>\n",
       "      <td>-0.79%</td>\n",
       "    </tr>\n",
       "    <tr>\n",
       "      <th>1383</th>\n",
       "      <td>Jan 02, 2015</td>\n",
       "      <td>315.25</td>\n",
       "      <td>314.35</td>\n",
       "      <td>318.30</td>\n",
       "      <td>314.35</td>\n",
       "      <td>9.94M</td>\n",
       "      <td>0.40%</td>\n",
       "    </tr>\n",
       "    <tr>\n",
       "      <th>1384</th>\n",
       "      <td>Jan 01, 2015</td>\n",
       "      <td>314.00</td>\n",
       "      <td>312.45</td>\n",
       "      <td>315.00</td>\n",
       "      <td>310.70</td>\n",
       "      <td>6.14M</td>\n",
       "      <td>0.69%</td>\n",
       "    </tr>\n",
       "  </tbody>\n",
       "</table>\n",
       "<p>1385 rows × 7 columns</p>\n",
       "</div>"
      ],
      "text/plain": [
       "              Date   Price    Open    High     Low    Vol. Change %\n",
       "0     Aug 07, 2020  190.65  191.45  192.10  189.55  44.82M   -0.16%\n",
       "1     Aug 06, 2020  190.95  192.30  194.50  190.25  59.74M   -0.26%\n",
       "2     Aug 05, 2020  191.45  192.75  196.85  191.00  68.89M   -0.08%\n",
       "3     Aug 04, 2020  191.60  193.35  193.80  190.50  43.87M   -0.34%\n",
       "4     Aug 03, 2020  192.25  192.00  194.60  190.05  72.46M    0.42%\n",
       "...            ...     ...     ...     ...     ...     ...      ...\n",
       "1380  Jan 07, 2015  300.15  300.00  302.55  295.15  15.05M    0.08%\n",
       "1381  Jan 06, 2015  299.90  310.00  311.10  298.70  15.33M   -4.11%\n",
       "1382  Jan 05, 2015  312.75  316.25  316.80  312.10   9.14M   -0.79%\n",
       "1383  Jan 02, 2015  315.25  314.35  318.30  314.35   9.94M    0.40%\n",
       "1384  Jan 01, 2015  314.00  312.45  315.00  310.70   6.14M    0.69%\n",
       "\n",
       "[1385 rows x 7 columns]"
      ]
     },
     "execution_count": 11,
     "metadata": {},
     "output_type": "execute_result"
    }
   ],
   "source": [
    "#reading Dataset\n",
    "\n",
    "sbi = pd.read_csv(r\"C:\\Users\\hp\\Downloads\\SBI_Historical_Data_.csv\")\n",
    "sbi"
   ]
  },
  {
   "cell_type": "markdown",
   "id": "f8f2f083",
   "metadata": {},
   "source": [
    "# Performing EDA"
   ]
  },
  {
   "cell_type": "code",
   "execution_count": 12,
   "id": "672132f4",
   "metadata": {},
   "outputs": [
    {
     "data": {
      "text/plain": [
       "(1385, 7)"
      ]
     },
     "execution_count": 12,
     "metadata": {},
     "output_type": "execute_result"
    }
   ],
   "source": [
    "#checking dimension of the data\n",
    "\n",
    "sbi.shape"
   ]
  },
  {
   "cell_type": "code",
   "execution_count": 13,
   "id": "5f006184",
   "metadata": {},
   "outputs": [
    {
     "data": {
      "text/html": [
       "<div>\n",
       "<style scoped>\n",
       "    .dataframe tbody tr th:only-of-type {\n",
       "        vertical-align: middle;\n",
       "    }\n",
       "\n",
       "    .dataframe tbody tr th {\n",
       "        vertical-align: top;\n",
       "    }\n",
       "\n",
       "    .dataframe thead th {\n",
       "        text-align: right;\n",
       "    }\n",
       "</style>\n",
       "<table border=\"1\" class=\"dataframe\">\n",
       "  <thead>\n",
       "    <tr style=\"text-align: right;\">\n",
       "      <th></th>\n",
       "      <th>Date</th>\n",
       "      <th>Price</th>\n",
       "      <th>Open</th>\n",
       "      <th>High</th>\n",
       "      <th>Low</th>\n",
       "      <th>Vol.</th>\n",
       "      <th>Change %</th>\n",
       "    </tr>\n",
       "  </thead>\n",
       "  <tbody>\n",
       "    <tr>\n",
       "      <th>0</th>\n",
       "      <td>Aug 07, 2020</td>\n",
       "      <td>190.65</td>\n",
       "      <td>191.45</td>\n",
       "      <td>192.10</td>\n",
       "      <td>189.55</td>\n",
       "      <td>44.82M</td>\n",
       "      <td>-0.16%</td>\n",
       "    </tr>\n",
       "    <tr>\n",
       "      <th>1</th>\n",
       "      <td>Aug 06, 2020</td>\n",
       "      <td>190.95</td>\n",
       "      <td>192.30</td>\n",
       "      <td>194.50</td>\n",
       "      <td>190.25</td>\n",
       "      <td>59.74M</td>\n",
       "      <td>-0.26%</td>\n",
       "    </tr>\n",
       "    <tr>\n",
       "      <th>2</th>\n",
       "      <td>Aug 05, 2020</td>\n",
       "      <td>191.45</td>\n",
       "      <td>192.75</td>\n",
       "      <td>196.85</td>\n",
       "      <td>191.00</td>\n",
       "      <td>68.89M</td>\n",
       "      <td>-0.08%</td>\n",
       "    </tr>\n",
       "    <tr>\n",
       "      <th>3</th>\n",
       "      <td>Aug 04, 2020</td>\n",
       "      <td>191.60</td>\n",
       "      <td>193.35</td>\n",
       "      <td>193.80</td>\n",
       "      <td>190.50</td>\n",
       "      <td>43.87M</td>\n",
       "      <td>-0.34%</td>\n",
       "    </tr>\n",
       "    <tr>\n",
       "      <th>4</th>\n",
       "      <td>Aug 03, 2020</td>\n",
       "      <td>192.25</td>\n",
       "      <td>192.00</td>\n",
       "      <td>194.60</td>\n",
       "      <td>190.05</td>\n",
       "      <td>72.46M</td>\n",
       "      <td>0.42%</td>\n",
       "    </tr>\n",
       "  </tbody>\n",
       "</table>\n",
       "</div>"
      ],
      "text/plain": [
       "           Date   Price    Open    High     Low    Vol. Change %\n",
       "0  Aug 07, 2020  190.65  191.45  192.10  189.55  44.82M   -0.16%\n",
       "1  Aug 06, 2020  190.95  192.30  194.50  190.25  59.74M   -0.26%\n",
       "2  Aug 05, 2020  191.45  192.75  196.85  191.00  68.89M   -0.08%\n",
       "3  Aug 04, 2020  191.60  193.35  193.80  190.50  43.87M   -0.34%\n",
       "4  Aug 03, 2020  192.25  192.00  194.60  190.05  72.46M    0.42%"
      ]
     },
     "execution_count": 13,
     "metadata": {},
     "output_type": "execute_result"
    }
   ],
   "source": [
    "#data head\n",
    "\n",
    "sbi.head()"
   ]
  },
  {
   "cell_type": "code",
   "execution_count": 14,
   "id": "949d721c",
   "metadata": {},
   "outputs": [
    {
     "name": "stdout",
     "output_type": "stream",
     "text": [
      "<class 'pandas.core.frame.DataFrame'>\n",
      "RangeIndex: 1385 entries, 0 to 1384\n",
      "Data columns (total 7 columns):\n",
      " #   Column    Non-Null Count  Dtype  \n",
      "---  ------    --------------  -----  \n",
      " 0   Date      1385 non-null   object \n",
      " 1   Price     1385 non-null   float64\n",
      " 2   Open      1385 non-null   float64\n",
      " 3   High      1385 non-null   float64\n",
      " 4   Low       1385 non-null   float64\n",
      " 5   Vol.      1385 non-null   object \n",
      " 6   Change %  1385 non-null   object \n",
      "dtypes: float64(4), object(3)\n",
      "memory usage: 75.9+ KB\n"
     ]
    }
   ],
   "source": [
    "#data dtypes and counts\n",
    "\n",
    "sbi.info()"
   ]
  },
  {
   "cell_type": "code",
   "execution_count": 15,
   "id": "4cadc156",
   "metadata": {},
   "outputs": [
    {
     "data": {
      "text/html": [
       "<div>\n",
       "<style scoped>\n",
       "    .dataframe tbody tr th:only-of-type {\n",
       "        vertical-align: middle;\n",
       "    }\n",
       "\n",
       "    .dataframe tbody tr th {\n",
       "        vertical-align: top;\n",
       "    }\n",
       "\n",
       "    .dataframe thead th {\n",
       "        text-align: right;\n",
       "    }\n",
       "</style>\n",
       "<table border=\"1\" class=\"dataframe\">\n",
       "  <thead>\n",
       "    <tr style=\"text-align: right;\">\n",
       "      <th></th>\n",
       "      <th>count</th>\n",
       "      <th>mean</th>\n",
       "      <th>std</th>\n",
       "      <th>min</th>\n",
       "      <th>1%</th>\n",
       "      <th>5%</th>\n",
       "      <th>10%</th>\n",
       "      <th>25%</th>\n",
       "      <th>50%</th>\n",
       "      <th>75%</th>\n",
       "      <th>90%</th>\n",
       "      <th>95%</th>\n",
       "      <th>99%</th>\n",
       "      <th>max</th>\n",
       "    </tr>\n",
       "  </thead>\n",
       "  <tbody>\n",
       "    <tr>\n",
       "      <th>Price</th>\n",
       "      <td>1385.0</td>\n",
       "      <td>266.274404</td>\n",
       "      <td>45.555277</td>\n",
       "      <td>150.85</td>\n",
       "      <td>158.584</td>\n",
       "      <td>180.58</td>\n",
       "      <td>189.18</td>\n",
       "      <td>245.65</td>\n",
       "      <td>270.80</td>\n",
       "      <td>296.15</td>\n",
       "      <td>319.64</td>\n",
       "      <td>333.74</td>\n",
       "      <td>360.050</td>\n",
       "      <td>372.40</td>\n",
       "    </tr>\n",
       "    <tr>\n",
       "      <th>Open</th>\n",
       "      <td>1385.0</td>\n",
       "      <td>266.903213</td>\n",
       "      <td>45.590664</td>\n",
       "      <td>151.95</td>\n",
       "      <td>158.872</td>\n",
       "      <td>181.65</td>\n",
       "      <td>190.20</td>\n",
       "      <td>245.90</td>\n",
       "      <td>271.15</td>\n",
       "      <td>296.50</td>\n",
       "      <td>319.96</td>\n",
       "      <td>334.94</td>\n",
       "      <td>358.828</td>\n",
       "      <td>371.95</td>\n",
       "    </tr>\n",
       "    <tr>\n",
       "      <th>High</th>\n",
       "      <td>1385.0</td>\n",
       "      <td>270.343682</td>\n",
       "      <td>45.829745</td>\n",
       "      <td>153.20</td>\n",
       "      <td>163.572</td>\n",
       "      <td>184.44</td>\n",
       "      <td>193.88</td>\n",
       "      <td>248.80</td>\n",
       "      <td>274.60</td>\n",
       "      <td>300.75</td>\n",
       "      <td>324.48</td>\n",
       "      <td>337.95</td>\n",
       "      <td>363.160</td>\n",
       "      <td>373.80</td>\n",
       "    </tr>\n",
       "    <tr>\n",
       "      <th>Low</th>\n",
       "      <td>1385.0</td>\n",
       "      <td>262.757906</td>\n",
       "      <td>45.248334</td>\n",
       "      <td>148.25</td>\n",
       "      <td>155.284</td>\n",
       "      <td>178.02</td>\n",
       "      <td>186.02</td>\n",
       "      <td>242.55</td>\n",
       "      <td>267.40</td>\n",
       "      <td>292.20</td>\n",
       "      <td>315.40</td>\n",
       "      <td>330.77</td>\n",
       "      <td>355.390</td>\n",
       "      <td>366.20</td>\n",
       "    </tr>\n",
       "  </tbody>\n",
       "</table>\n",
       "</div>"
      ],
      "text/plain": [
       "        count        mean        std     min       1%      5%     10%     25%  \\\n",
       "Price  1385.0  266.274404  45.555277  150.85  158.584  180.58  189.18  245.65   \n",
       "Open   1385.0  266.903213  45.590664  151.95  158.872  181.65  190.20  245.90   \n",
       "High   1385.0  270.343682  45.829745  153.20  163.572  184.44  193.88  248.80   \n",
       "Low    1385.0  262.757906  45.248334  148.25  155.284  178.02  186.02  242.55   \n",
       "\n",
       "          50%     75%     90%     95%      99%     max  \n",
       "Price  270.80  296.15  319.64  333.74  360.050  372.40  \n",
       "Open   271.15  296.50  319.96  334.94  358.828  371.95  \n",
       "High   274.60  300.75  324.48  337.95  363.160  373.80  \n",
       "Low    267.40  292.20  315.40  330.77  355.390  366.20  "
      ]
     },
     "execution_count": 15,
     "metadata": {},
     "output_type": "execute_result"
    }
   ],
   "source": [
    "#analysing statistical summary of data\n",
    "\n",
    "sbi.describe(percentiles=[0.01, 0.05, 0.1, 0.25, 0.5, 0.75,0.90, 0.95, 0.99]).T"
   ]
  },
  {
   "cell_type": "code",
   "execution_count": 16,
   "id": "00324fbe",
   "metadata": {},
   "outputs": [],
   "source": [
    "#converting Date\n",
    "\n",
    "sbi[\"Date\"]=pd.to_datetime(sbi[\"Date\"])"
   ]
  },
  {
   "cell_type": "code",
   "execution_count": 17,
   "id": "62bad5ab",
   "metadata": {},
   "outputs": [
    {
     "name": "stdout",
     "output_type": "stream",
     "text": [
      "<class 'pandas.core.frame.DataFrame'>\n",
      "RangeIndex: 1385 entries, 0 to 1384\n",
      "Data columns (total 7 columns):\n",
      " #   Column    Non-Null Count  Dtype         \n",
      "---  ------    --------------  -----         \n",
      " 0   Date      1385 non-null   datetime64[ns]\n",
      " 1   Price     1385 non-null   float64       \n",
      " 2   Open      1385 non-null   float64       \n",
      " 3   High      1385 non-null   float64       \n",
      " 4   Low       1385 non-null   float64       \n",
      " 5   Vol.      1385 non-null   object        \n",
      " 6   Change %  1385 non-null   object        \n",
      "dtypes: datetime64[ns](1), float64(4), object(2)\n",
      "memory usage: 75.9+ KB\n"
     ]
    }
   ],
   "source": [
    "#after converting date checking datatypes\n",
    "\n",
    "sbi.info()"
   ]
  },
  {
   "cell_type": "code",
   "execution_count": 18,
   "id": "fa7e1d96",
   "metadata": {},
   "outputs": [
    {
     "data": {
      "text/plain": [
       "Date        0\n",
       "Price       0\n",
       "Open        0\n",
       "High        0\n",
       "Low         0\n",
       "Vol.        0\n",
       "Change %    0\n",
       "dtype: int64"
      ]
     },
     "execution_count": 18,
     "metadata": {},
     "output_type": "execute_result"
    }
   ],
   "source": [
    "#checking null values \n",
    "\n",
    "sbi.isnull().sum()"
   ]
  },
  {
   "cell_type": "code",
   "execution_count": 19,
   "id": "813b405e",
   "metadata": {},
   "outputs": [],
   "source": [
    "#sorting date for time series\n",
    "\n",
    "sbi = sbi.sort_values('Date')"
   ]
  },
  {
   "cell_type": "code",
   "execution_count": 20,
   "id": "670eb29a",
   "metadata": {},
   "outputs": [
    {
     "data": {
      "text/html": [
       "<div>\n",
       "<style scoped>\n",
       "    .dataframe tbody tr th:only-of-type {\n",
       "        vertical-align: middle;\n",
       "    }\n",
       "\n",
       "    .dataframe tbody tr th {\n",
       "        vertical-align: top;\n",
       "    }\n",
       "\n",
       "    .dataframe thead th {\n",
       "        text-align: right;\n",
       "    }\n",
       "</style>\n",
       "<table border=\"1\" class=\"dataframe\">\n",
       "  <thead>\n",
       "    <tr style=\"text-align: right;\">\n",
       "      <th></th>\n",
       "      <th>Date</th>\n",
       "      <th>Price</th>\n",
       "      <th>Open</th>\n",
       "      <th>High</th>\n",
       "      <th>Low</th>\n",
       "      <th>Vol.</th>\n",
       "      <th>Change %</th>\n",
       "    </tr>\n",
       "  </thead>\n",
       "  <tbody>\n",
       "    <tr>\n",
       "      <th>1384</th>\n",
       "      <td>2015-01-01</td>\n",
       "      <td>314.00</td>\n",
       "      <td>312.45</td>\n",
       "      <td>315.00</td>\n",
       "      <td>310.70</td>\n",
       "      <td>6.14M</td>\n",
       "      <td>0.69%</td>\n",
       "    </tr>\n",
       "    <tr>\n",
       "      <th>1383</th>\n",
       "      <td>2015-01-02</td>\n",
       "      <td>315.25</td>\n",
       "      <td>314.35</td>\n",
       "      <td>318.30</td>\n",
       "      <td>314.35</td>\n",
       "      <td>9.94M</td>\n",
       "      <td>0.40%</td>\n",
       "    </tr>\n",
       "    <tr>\n",
       "      <th>1382</th>\n",
       "      <td>2015-01-05</td>\n",
       "      <td>312.75</td>\n",
       "      <td>316.25</td>\n",
       "      <td>316.80</td>\n",
       "      <td>312.10</td>\n",
       "      <td>9.14M</td>\n",
       "      <td>-0.79%</td>\n",
       "    </tr>\n",
       "    <tr>\n",
       "      <th>1381</th>\n",
       "      <td>2015-01-06</td>\n",
       "      <td>299.90</td>\n",
       "      <td>310.00</td>\n",
       "      <td>311.10</td>\n",
       "      <td>298.70</td>\n",
       "      <td>15.33M</td>\n",
       "      <td>-4.11%</td>\n",
       "    </tr>\n",
       "    <tr>\n",
       "      <th>1380</th>\n",
       "      <td>2015-01-07</td>\n",
       "      <td>300.15</td>\n",
       "      <td>300.00</td>\n",
       "      <td>302.55</td>\n",
       "      <td>295.15</td>\n",
       "      <td>15.05M</td>\n",
       "      <td>0.08%</td>\n",
       "    </tr>\n",
       "    <tr>\n",
       "      <th>...</th>\n",
       "      <td>...</td>\n",
       "      <td>...</td>\n",
       "      <td>...</td>\n",
       "      <td>...</td>\n",
       "      <td>...</td>\n",
       "      <td>...</td>\n",
       "      <td>...</td>\n",
       "    </tr>\n",
       "    <tr>\n",
       "      <th>4</th>\n",
       "      <td>2020-08-03</td>\n",
       "      <td>192.25</td>\n",
       "      <td>192.00</td>\n",
       "      <td>194.60</td>\n",
       "      <td>190.05</td>\n",
       "      <td>72.46M</td>\n",
       "      <td>0.42%</td>\n",
       "    </tr>\n",
       "    <tr>\n",
       "      <th>3</th>\n",
       "      <td>2020-08-04</td>\n",
       "      <td>191.60</td>\n",
       "      <td>193.35</td>\n",
       "      <td>193.80</td>\n",
       "      <td>190.50</td>\n",
       "      <td>43.87M</td>\n",
       "      <td>-0.34%</td>\n",
       "    </tr>\n",
       "    <tr>\n",
       "      <th>2</th>\n",
       "      <td>2020-08-05</td>\n",
       "      <td>191.45</td>\n",
       "      <td>192.75</td>\n",
       "      <td>196.85</td>\n",
       "      <td>191.00</td>\n",
       "      <td>68.89M</td>\n",
       "      <td>-0.08%</td>\n",
       "    </tr>\n",
       "    <tr>\n",
       "      <th>1</th>\n",
       "      <td>2020-08-06</td>\n",
       "      <td>190.95</td>\n",
       "      <td>192.30</td>\n",
       "      <td>194.50</td>\n",
       "      <td>190.25</td>\n",
       "      <td>59.74M</td>\n",
       "      <td>-0.26%</td>\n",
       "    </tr>\n",
       "    <tr>\n",
       "      <th>0</th>\n",
       "      <td>2020-08-07</td>\n",
       "      <td>190.65</td>\n",
       "      <td>191.45</td>\n",
       "      <td>192.10</td>\n",
       "      <td>189.55</td>\n",
       "      <td>44.82M</td>\n",
       "      <td>-0.16%</td>\n",
       "    </tr>\n",
       "  </tbody>\n",
       "</table>\n",
       "<p>1385 rows × 7 columns</p>\n",
       "</div>"
      ],
      "text/plain": [
       "           Date   Price    Open    High     Low    Vol. Change %\n",
       "1384 2015-01-01  314.00  312.45  315.00  310.70   6.14M    0.69%\n",
       "1383 2015-01-02  315.25  314.35  318.30  314.35   9.94M    0.40%\n",
       "1382 2015-01-05  312.75  316.25  316.80  312.10   9.14M   -0.79%\n",
       "1381 2015-01-06  299.90  310.00  311.10  298.70  15.33M   -4.11%\n",
       "1380 2015-01-07  300.15  300.00  302.55  295.15  15.05M    0.08%\n",
       "...         ...     ...     ...     ...     ...     ...      ...\n",
       "4    2020-08-03  192.25  192.00  194.60  190.05  72.46M    0.42%\n",
       "3    2020-08-04  191.60  193.35  193.80  190.50  43.87M   -0.34%\n",
       "2    2020-08-05  191.45  192.75  196.85  191.00  68.89M   -0.08%\n",
       "1    2020-08-06  190.95  192.30  194.50  190.25  59.74M   -0.26%\n",
       "0    2020-08-07  190.65  191.45  192.10  189.55  44.82M   -0.16%\n",
       "\n",
       "[1385 rows x 7 columns]"
      ]
     },
     "execution_count": 20,
     "metadata": {},
     "output_type": "execute_result"
    }
   ],
   "source": [
    "sbi"
   ]
  },
  {
   "cell_type": "code",
   "execution_count": 21,
   "id": "3a223dbd",
   "metadata": {},
   "outputs": [],
   "source": [
    "#indexing the dataset with date\n",
    "\n",
    "sbi = sbi.set_index('Date')"
   ]
  },
  {
   "cell_type": "code",
   "execution_count": 22,
   "id": "4c70ad10",
   "metadata": {},
   "outputs": [],
   "source": [
    "#dropping unrequired columns\n",
    "\n",
    "sbi.drop(columns=['Open','High','Low','Vol.','Change %'],axis= 1, inplace= True)"
   ]
  },
  {
   "cell_type": "code",
   "execution_count": 23,
   "id": "8746f8dc",
   "metadata": {},
   "outputs": [
    {
     "data": {
      "text/html": [
       "<div>\n",
       "<style scoped>\n",
       "    .dataframe tbody tr th:only-of-type {\n",
       "        vertical-align: middle;\n",
       "    }\n",
       "\n",
       "    .dataframe tbody tr th {\n",
       "        vertical-align: top;\n",
       "    }\n",
       "\n",
       "    .dataframe thead th {\n",
       "        text-align: right;\n",
       "    }\n",
       "</style>\n",
       "<table border=\"1\" class=\"dataframe\">\n",
       "  <thead>\n",
       "    <tr style=\"text-align: right;\">\n",
       "      <th></th>\n",
       "      <th>Price</th>\n",
       "    </tr>\n",
       "    <tr>\n",
       "      <th>Date</th>\n",
       "      <th></th>\n",
       "    </tr>\n",
       "  </thead>\n",
       "  <tbody>\n",
       "    <tr>\n",
       "      <th>2015-01-01</th>\n",
       "      <td>314.00</td>\n",
       "    </tr>\n",
       "    <tr>\n",
       "      <th>2015-01-02</th>\n",
       "      <td>315.25</td>\n",
       "    </tr>\n",
       "    <tr>\n",
       "      <th>2015-01-05</th>\n",
       "      <td>312.75</td>\n",
       "    </tr>\n",
       "    <tr>\n",
       "      <th>2015-01-06</th>\n",
       "      <td>299.90</td>\n",
       "    </tr>\n",
       "    <tr>\n",
       "      <th>2015-01-07</th>\n",
       "      <td>300.15</td>\n",
       "    </tr>\n",
       "    <tr>\n",
       "      <th>...</th>\n",
       "      <td>...</td>\n",
       "    </tr>\n",
       "    <tr>\n",
       "      <th>2020-08-03</th>\n",
       "      <td>192.25</td>\n",
       "    </tr>\n",
       "    <tr>\n",
       "      <th>2020-08-04</th>\n",
       "      <td>191.60</td>\n",
       "    </tr>\n",
       "    <tr>\n",
       "      <th>2020-08-05</th>\n",
       "      <td>191.45</td>\n",
       "    </tr>\n",
       "    <tr>\n",
       "      <th>2020-08-06</th>\n",
       "      <td>190.95</td>\n",
       "    </tr>\n",
       "    <tr>\n",
       "      <th>2020-08-07</th>\n",
       "      <td>190.65</td>\n",
       "    </tr>\n",
       "  </tbody>\n",
       "</table>\n",
       "<p>1385 rows × 1 columns</p>\n",
       "</div>"
      ],
      "text/plain": [
       "             Price\n",
       "Date              \n",
       "2015-01-01  314.00\n",
       "2015-01-02  315.25\n",
       "2015-01-05  312.75\n",
       "2015-01-06  299.90\n",
       "2015-01-07  300.15\n",
       "...            ...\n",
       "2020-08-03  192.25\n",
       "2020-08-04  191.60\n",
       "2020-08-05  191.45\n",
       "2020-08-06  190.95\n",
       "2020-08-07  190.65\n",
       "\n",
       "[1385 rows x 1 columns]"
      ]
     },
     "execution_count": 23,
     "metadata": {},
     "output_type": "execute_result"
    }
   ],
   "source": [
    "sbi"
   ]
  },
  {
   "cell_type": "code",
   "execution_count": 24,
   "id": "e4ef5948",
   "metadata": {},
   "outputs": [],
   "source": [
    "#coverting into series\n",
    "\n",
    "y= sbi.Price"
   ]
  },
  {
   "cell_type": "code",
   "execution_count": 25,
   "id": "9dc3704f",
   "metadata": {},
   "outputs": [
    {
     "data": {
      "text/plain": [
       "pandas.core.series.Series"
      ]
     },
     "execution_count": 25,
     "metadata": {},
     "output_type": "execute_result"
    }
   ],
   "source": [
    "#checking type of data\n",
    "\n",
    "type(y)"
   ]
  },
  {
   "cell_type": "code",
   "execution_count": 26,
   "id": "c0163496",
   "metadata": {},
   "outputs": [
    {
     "data": {
      "text/plain": [
       "Date\n",
       "2015-01-04    314.625\n",
       "2015-01-11    304.170\n",
       "2015-01-18    310.530\n",
       "2015-01-25    321.920\n",
       "2015-02-01    325.150\n",
       "               ...   \n",
       "2020-07-12    192.650\n",
       "2020-07-19    187.400\n",
       "2020-07-26    193.470\n",
       "2020-08-02    189.160\n",
       "2020-08-09    191.380\n",
       "Freq: W-SUN, Name: Price, Length: 293, dtype: float64"
      ]
     },
     "execution_count": 26,
     "metadata": {},
     "output_type": "execute_result"
    }
   ],
   "source": [
    "#converting dataset on weekly basis\n",
    "\n",
    "train =sbi['Price'].resample('w').mean()\n",
    "train"
   ]
  },
  {
   "cell_type": "markdown",
   "id": "00860f95",
   "metadata": {},
   "source": [
    "# Performing Time series Analysis"
   ]
  },
  {
   "cell_type": "code",
   "execution_count": 27,
   "id": "0e3b818b",
   "metadata": {},
   "outputs": [
    {
     "data": {
      "text/plain": [
       "<AxesSubplot:xlabel='Date'>"
      ]
     },
     "execution_count": 27,
     "metadata": {},
     "output_type": "execute_result"
    },
    {
     "data": {
      "image/png": "[encoded data removed]",
      "text/plain": [
       "<Figure size 1152x576 with 1 Axes>"
      ]
     },
     "metadata": {
      "needs_background": "light"
     },
     "output_type": "display_data"
    }
   ],
   "source": [
    "#Visualising time series data\n",
    "\n",
    "plt.figure(figsize=(16,8))\n",
    "train.plot()"
   ]
  },
  {
   "cell_type": "markdown",
   "id": "c41ba149",
   "metadata": {},
   "source": [
    "# adfuller Test"
   ]
  },
  {
   "cell_type": "code",
   "execution_count": 28,
   "id": "f3e444d6",
   "metadata": {},
   "outputs": [],
   "source": [
    "from statsmodels.tsa.stattools import adfuller"
   ]
  },
  {
   "cell_type": "code",
   "execution_count": 29,
   "id": "d20ca159",
   "metadata": {},
   "outputs": [
    {
     "data": {
      "text/plain": [
       "(-2.480140728559254,\n",
       " 0.12038137232289109,\n",
       " 1,\n",
       " 291,\n",
       " {'1%': -3.4530232710482367,\n",
       "  '5%': -2.871523926671883,\n",
       "  '10%': -2.5720897694878424},\n",
       " 2072.8686693141253)"
      ]
     },
     "execution_count": 29,
     "metadata": {},
     "output_type": "execute_result"
    }
   ],
   "source": [
    "adfuller(train)"
   ]
  },
  {
   "cell_type": "code",
   "execution_count": 30,
   "id": "a79ff978",
   "metadata": {},
   "outputs": [
    {
     "data": {
      "text/plain": [
       "(-2.49551769166978,\n",
       " 0.11656873141815,\n",
       " 2,\n",
       " 290,\n",
       " {'1%': -3.453102162983312,\n",
       "  '5%': -2.871558538275452,\n",
       "  '10%': -2.5721082282996433},\n",
       " -988.7920798885903)"
      ]
     },
     "execution_count": 30,
     "metadata": {},
     "output_type": "execute_result"
    }
   ],
   "source": [
    "adfuller(np.log(train))"
   ]
  },
  {
   "cell_type": "code",
   "execution_count": 31,
   "id": "1240d040",
   "metadata": {},
   "outputs": [
    {
     "data": {
      "text/plain": [
       "(-4.634921551882676,\n",
       " 0.00011132084473946615,\n",
       " 16,\n",
       " 271,\n",
       " {'1%': -3.4547128138328875,\n",
       "  '5%': -2.8722649771800155,\n",
       "  '10%': -2.5724850011573914},\n",
       " -904.2297819985247)"
      ]
     },
     "execution_count": 31,
     "metadata": {},
     "output_type": "execute_result"
    }
   ],
   "source": [
    "adfuller(np.log(train).diff(5).dropna())"
   ]
  },
  {
   "cell_type": "markdown",
   "id": "06aec171",
   "metadata": {},
   "source": [
    "# Performing Decomposing"
   ]
  },
  {
   "cell_type": "code",
   "execution_count": 32,
   "id": "35037fa4",
   "metadata": {},
   "outputs": [],
   "source": [
    "import statsmodels.tsa.api as smt\n",
    "from statsmodels.tsa.seasonal import seasonal_decompose  # Decomposition"
   ]
  },
  {
   "cell_type": "code",
   "execution_count": 33,
   "id": "427ff861",
   "metadata": {},
   "outputs": [],
   "source": [
    "decompose = seasonal_decompose(train, model='additive', two_sided=False, extrapolate_trend=4)"
   ]
  },
  {
   "cell_type": "code",
   "execution_count": 34,
   "id": "b70722ba",
   "metadata": {},
   "outputs": [
    {
     "data": {
      "image/png": "[encoded data removed]",
      "text/plain": [
       "<Figure size 864x576 with 4 Axes>"
      ]
     },
     "metadata": {
      "needs_background": "light"
     },
     "output_type": "display_data"
    }
   ],
   "source": [
    "fig = decompose.plot()\n",
    "fig.set_figwidth(12)\n",
    "fig.set_figheight(8)\n",
    "fig.suptitle('Decomposition of additive time series')\n",
    "plt.show()"
   ]
  },
  {
   "cell_type": "code",
   "execution_count": 35,
   "id": "be785b6b",
   "metadata": {},
   "outputs": [
    {
     "data": {
      "text/html": [
       "<div>\n",
       "<style scoped>\n",
       "    .dataframe tbody tr th:only-of-type {\n",
       "        vertical-align: middle;\n",
       "    }\n",
       "\n",
       "    .dataframe tbody tr th {\n",
       "        vertical-align: top;\n",
       "    }\n",
       "\n",
       "    .dataframe thead th {\n",
       "        text-align: right;\n",
       "    }\n",
       "</style>\n",
       "<table border=\"1\" class=\"dataframe\">\n",
       "  <thead>\n",
       "    <tr style=\"text-align: right;\">\n",
       "      <th></th>\n",
       "      <th>seasonal</th>\n",
       "      <th>trend</th>\n",
       "      <th>resid</th>\n",
       "      <th>Price</th>\n",
       "    </tr>\n",
       "    <tr>\n",
       "      <th>Date</th>\n",
       "      <th></th>\n",
       "      <th></th>\n",
       "      <th></th>\n",
       "      <th></th>\n",
       "    </tr>\n",
       "  </thead>\n",
       "  <tbody>\n",
       "    <tr>\n",
       "      <th>2015-01-04</th>\n",
       "      <td>10.606837</td>\n",
       "      <td>382.099080</td>\n",
       "      <td>-78.080917</td>\n",
       "      <td>314.625</td>\n",
       "    </tr>\n",
       "    <tr>\n",
       "      <th>2015-01-11</th>\n",
       "      <td>6.164193</td>\n",
       "      <td>379.888186</td>\n",
       "      <td>-81.882379</td>\n",
       "      <td>304.170</td>\n",
       "    </tr>\n",
       "    <tr>\n",
       "      <th>2015-01-18</th>\n",
       "      <td>4.416602</td>\n",
       "      <td>377.677292</td>\n",
       "      <td>-71.563894</td>\n",
       "      <td>310.530</td>\n",
       "    </tr>\n",
       "    <tr>\n",
       "      <th>2015-01-25</th>\n",
       "      <td>4.405565</td>\n",
       "      <td>375.466397</td>\n",
       "      <td>-57.951963</td>\n",
       "      <td>321.920</td>\n",
       "    </tr>\n",
       "    <tr>\n",
       "      <th>2015-02-01</th>\n",
       "      <td>5.649192</td>\n",
       "      <td>373.255503</td>\n",
       "      <td>-53.754695</td>\n",
       "      <td>325.150</td>\n",
       "    </tr>\n",
       "    <tr>\n",
       "      <th>...</th>\n",
       "      <td>...</td>\n",
       "      <td>...</td>\n",
       "      <td>...</td>\n",
       "      <td>...</td>\n",
       "    </tr>\n",
       "    <tr>\n",
       "      <th>2020-07-12</th>\n",
       "      <td>3.898834</td>\n",
       "      <td>266.320946</td>\n",
       "      <td>-77.569780</td>\n",
       "      <td>192.650</td>\n",
       "    </tr>\n",
       "    <tr>\n",
       "      <th>2020-07-19</th>\n",
       "      <td>3.839432</td>\n",
       "      <td>263.028638</td>\n",
       "      <td>-79.468070</td>\n",
       "      <td>187.400</td>\n",
       "    </tr>\n",
       "    <tr>\n",
       "      <th>2020-07-26</th>\n",
       "      <td>4.946039</td>\n",
       "      <td>259.896619</td>\n",
       "      <td>-71.372658</td>\n",
       "      <td>193.470</td>\n",
       "    </tr>\n",
       "    <tr>\n",
       "      <th>2020-08-02</th>\n",
       "      <td>11.015916</td>\n",
       "      <td>257.141715</td>\n",
       "      <td>-78.997631</td>\n",
       "      <td>189.160</td>\n",
       "    </tr>\n",
       "    <tr>\n",
       "      <th>2020-08-09</th>\n",
       "      <td>5.739527</td>\n",
       "      <td>254.826907</td>\n",
       "      <td>-69.186434</td>\n",
       "      <td>191.380</td>\n",
       "    </tr>\n",
       "  </tbody>\n",
       "</table>\n",
       "<p>293 rows × 4 columns</p>\n",
       "</div>"
      ],
      "text/plain": [
       "             seasonal       trend      resid    Price\n",
       "Date                                                 \n",
       "2015-01-04  10.606837  382.099080 -78.080917  314.625\n",
       "2015-01-11   6.164193  379.888186 -81.882379  304.170\n",
       "2015-01-18   4.416602  377.677292 -71.563894  310.530\n",
       "2015-01-25   4.405565  375.466397 -57.951963  321.920\n",
       "2015-02-01   5.649192  373.255503 -53.754695  325.150\n",
       "...               ...         ...        ...      ...\n",
       "2020-07-12   3.898834  266.320946 -77.569780  192.650\n",
       "2020-07-19   3.839432  263.028638 -79.468070  187.400\n",
       "2020-07-26   4.946039  259.896619 -71.372658  193.470\n",
       "2020-08-02  11.015916  257.141715 -78.997631  189.160\n",
       "2020-08-09   5.739527  254.826907 -69.186434  191.380\n",
       "\n",
       "[293 rows x 4 columns]"
      ]
     },
     "execution_count": 35,
     "metadata": {},
     "output_type": "execute_result"
    }
   ],
   "source": [
    "pd.DataFrame([decompose.seasonal, decompose.trend, decompose.resid, decompose.observed]).T"
   ]
  },
  {
   "cell_type": "code",
   "execution_count": 36,
   "id": "bdee758c",
   "metadata": {},
   "outputs": [
    {
     "data": {
      "text/plain": [
       "Date\n",
       "2020-03-22    213.440000\n",
       "2020-03-29    188.680000\n",
       "2020-04-05    186.450000\n",
       "2020-04-12    185.716667\n",
       "2020-04-19    186.900000\n",
       "2020-04-26    186.480000\n",
       "2020-05-03    186.450000\n",
       "2020-05-10    171.550000\n",
       "2020-05-17    168.160000\n",
       "2020-05-24    152.860000\n",
       "2020-05-31    157.375000\n",
       "2020-06-07    175.410000\n",
       "2020-06-14    183.050000\n",
       "2020-06-21    176.740000\n",
       "2020-06-28    186.920000\n",
       "2020-07-05    182.530000\n",
       "2020-07-12    192.650000\n",
       "2020-07-19    187.400000\n",
       "2020-07-26    193.470000\n",
       "2020-08-02    189.160000\n",
       "2020-08-09    191.380000\n",
       "Freq: W-SUN, Name: Price, dtype: float64"
      ]
     },
     "execution_count": 36,
     "metadata": {},
     "output_type": "execute_result"
    }
   ],
   "source": [
    "#checking tail of the data\n",
    "\n",
    "train.tail(21)"
   ]
  },
  {
   "cell_type": "code",
   "execution_count": 37,
   "id": "2ee5b59a",
   "metadata": {},
   "outputs": [],
   "source": [
    "#splitting data into train and test \n",
    "\n",
    "train_1 = train[:'2020-03-29']\n",
    "test = train['2020-03-22':]"
   ]
  },
  {
   "cell_type": "code",
   "execution_count": 38,
   "id": "6b6ad54a",
   "metadata": {},
   "outputs": [],
   "source": [
    "#log of train and test\n",
    "\n",
    "log_train = np.log(train_1)\n",
    "log_test = np.log(test)"
   ]
  },
  {
   "cell_type": "code",
   "execution_count": 39,
   "id": "8745b3ee",
   "metadata": {},
   "outputs": [
    {
     "data": {
      "text/plain": [
       "(274,)"
      ]
     },
     "execution_count": 39,
     "metadata": {},
     "output_type": "execute_result"
    }
   ],
   "source": [
    "log_train.shape"
   ]
  },
  {
   "cell_type": "code",
   "execution_count": 40,
   "id": "17dd8c17",
   "metadata": {},
   "outputs": [
    {
     "data": {
      "text/plain": [
       "(21,)"
      ]
     },
     "execution_count": 40,
     "metadata": {},
     "output_type": "execute_result"
    }
   ],
   "source": [
    "log_test.shape"
   ]
  },
  {
   "cell_type": "markdown",
   "id": "2a502d1d",
   "metadata": {},
   "source": [
    "# Parameter Selection "
   ]
  },
  {
   "cell_type": "code",
   "execution_count": 41,
   "id": "1db47228",
   "metadata": {},
   "outputs": [],
   "source": [
    "import sys\n",
    "import itertools\n",
    "import warnings\n",
    "\n",
    "def auto_arima(timeseries, regressors=None, p=range(0, 2), d=range(0, 2), q=range(0, 2),\n",
    "              P=range(0, 2), D=range(0, 1), Q=range(0, 2)):\n",
    "\n",
    "    # Generate all different combinations of p, d and q triplets\n",
    "    pdq = list(itertools.product(p, d, q))\n",
    "\n",
    "    # Generate all different combinations of seasonal p, q and q triplets\n",
    "    seasonal_pdq = [(x[0], x[1], x[2], 12) for x in list(itertools.product(P, D, Q))]\n",
    "    \n",
    "    warnings.filterwarnings(\"ignore\") # specify to ignore warning messages\n",
    "\n",
    "    best_aic = np.inf\n",
    "    best_pdq = None\n",
    "    best_seasonal_pdq = None\n",
    "    best_results = None\n",
    "    \n",
    "    for param in pdq:\n",
    "        for param_seasonal in seasonal_pdq:\n",
    "\n",
    "            try:\n",
    "                temp_model = sm.tsa.statespace.SARIMAX(endog=timeseries,\n",
    "                                                 exog=regressors,\n",
    "                                                 order = param,\n",
    "                                                 seasonal_order = param_seasonal,\n",
    "                                                 enforce_stationarity=False,\n",
    "                                                 enforce_invertibility=False)\n",
    "                temp_results = temp_model.fit()\n",
    "\n",
    "                print(\"SARIMAX{}x{}12 - AIC:{}\".format(param, param_seasonal, temp_results.aic))\n",
    "                \n",
    "                if temp_results.aic < best_aic:\n",
    "                    best_aic = temp_results.aic\n",
    "                    best_pdq = param\n",
    "                    best_seasonal_pdq = param_seasonal\n",
    "                    best_results = temp_results\n",
    "                \n",
    "            except:\n",
    "                #print(\"Unexpected error:\", sys.exc_info()[0])\n",
    "                continue\n",
    "    print(\"Best SARIMAX{}x{}12 model - AIC:{}\".format(best_pdq, best_seasonal_pdq, best_aic))\n",
    "    print(best_results.summary().tables[0])\n",
    "    print(best_results.summary().tables[1])\n",
    "    #return best_results"
   ]
  },
  {
   "cell_type": "code",
   "execution_count": 42,
   "id": "62c5f91e",
   "metadata": {},
   "outputs": [
    {
     "name": "stdout",
     "output_type": "stream",
     "text": [
      "Best SARIMAXNonexNone12 model - AIC:inf\n"
     ]
    },
    {
     "ename": "AttributeError",
     "evalue": "'NoneType' object has no attribute 'summary'",
     "output_type": "error",
     "traceback": [
      "\u001b[1;31m---------------------------------------------------------------------------\u001b[0m",
      "\u001b[1;31mAttributeError\u001b[0m                            Traceback (most recent call last)",
      "\u001b[1;32m<ipython-input-42-4e100e829b60>\u001b[0m in \u001b[0;36m<module>\u001b[1;34m\u001b[0m\n\u001b[1;32m----> 1\u001b[1;33m best_results = auto_arima(log_train,  p=range(0, 3), d=range(1,5), q=range(0, 3),\n\u001b[0m\u001b[0;32m      2\u001b[0m                          P=range(0, 2), D=range(0, 2), Q=range(0, 2))\n",
      "\u001b[1;32m<ipython-input-41-95cf82fa6843>\u001b[0m in \u001b[0;36mauto_arima\u001b[1;34m(timeseries, regressors, p, d, q, P, D, Q)\u001b[0m\n\u001b[0;32m     43\u001b[0m                 \u001b[1;32mcontinue\u001b[0m\u001b[1;33m\u001b[0m\u001b[1;33m\u001b[0m\u001b[0m\n\u001b[0;32m     44\u001b[0m     \u001b[0mprint\u001b[0m\u001b[1;33m(\u001b[0m\u001b[1;34m\"Best SARIMAX{}x{}12 model - AIC:{}\"\u001b[0m\u001b[1;33m.\u001b[0m\u001b[0mformat\u001b[0m\u001b[1;33m(\u001b[0m\u001b[0mbest_pdq\u001b[0m\u001b[1;33m,\u001b[0m \u001b[0mbest_seasonal_pdq\u001b[0m\u001b[1;33m,\u001b[0m \u001b[0mbest_aic\u001b[0m\u001b[1;33m)\u001b[0m\u001b[1;33m)\u001b[0m\u001b[1;33m\u001b[0m\u001b[1;33m\u001b[0m\u001b[0m\n\u001b[1;32m---> 45\u001b[1;33m     \u001b[0mprint\u001b[0m\u001b[1;33m(\u001b[0m\u001b[0mbest_results\u001b[0m\u001b[1;33m.\u001b[0m\u001b[0msummary\u001b[0m\u001b[1;33m(\u001b[0m\u001b[1;33m)\u001b[0m\u001b[1;33m.\u001b[0m\u001b[0mtables\u001b[0m\u001b[1;33m[\u001b[0m\u001b[1;36m0\u001b[0m\u001b[1;33m]\u001b[0m\u001b[1;33m)\u001b[0m\u001b[1;33m\u001b[0m\u001b[1;33m\u001b[0m\u001b[0m\n\u001b[0m\u001b[0;32m     46\u001b[0m     \u001b[0mprint\u001b[0m\u001b[1;33m(\u001b[0m\u001b[0mbest_results\u001b[0m\u001b[1;33m.\u001b[0m\u001b[0msummary\u001b[0m\u001b[1;33m(\u001b[0m\u001b[1;33m)\u001b[0m\u001b[1;33m.\u001b[0m\u001b[0mtables\u001b[0m\u001b[1;33m[\u001b[0m\u001b[1;36m1\u001b[0m\u001b[1;33m]\u001b[0m\u001b[1;33m)\u001b[0m\u001b[1;33m\u001b[0m\u001b[1;33m\u001b[0m\u001b[0m\n\u001b[0;32m     47\u001b[0m     \u001b[1;31m#return best_results\u001b[0m\u001b[1;33m\u001b[0m\u001b[1;33m\u001b[0m\u001b[1;33m\u001b[0m\u001b[0m\n",
      "\u001b[1;31mAttributeError\u001b[0m: 'NoneType' object has no attribute 'summary'"
     ]
    }
   ],
   "source": [
    "best_results = auto_arima(log_train,  p=range(0, 3), d=range(1,5), q=range(0, 3),\n",
    "                         P=range(0, 2), D=range(0, 2), Q=range(0, 2))"
   ]
  },
  {
   "cell_type": "markdown",
   "id": "20469dec",
   "metadata": {},
   "source": [
    "# Fitting Model"
   ]
  },
  {
   "cell_type": "code",
   "execution_count": 43,
   "id": "def54ac6",
   "metadata": {},
   "outputs": [],
   "source": [
    "import statsmodels.api as sm\n",
    "\n",
    "model = sm.tsa.statespace.SARIMAX(log_train, order = (0,1,1), seasonal_order= (0,0,0,12),\n",
    "                                             enforce_stationarity=False,\n",
    "                                             enforce_invertibility=False).fit()"
   ]
  },
  {
   "cell_type": "code",
   "execution_count": 44,
   "id": "a27952fc",
   "metadata": {},
   "outputs": [],
   "source": [
    "#validiating Forecast\n",
    "\n",
    "fcat1=model.forecast(21)"
   ]
  },
  {
   "cell_type": "code",
   "execution_count": 45,
   "id": "7633bec7",
   "metadata": {},
   "outputs": [],
   "source": [
    "#antilog\n",
    "\n",
    "fcast = np.exp(model.forecast(21))"
   ]
  },
  {
   "cell_type": "code",
   "execution_count": 46,
   "id": "122bb320",
   "metadata": {},
   "outputs": [
    {
     "data": {
      "text/plain": [
       "Date\n",
       "2020-03-22    213.440000\n",
       "2020-03-29    188.680000\n",
       "2020-04-05    186.450000\n",
       "2020-04-12    185.716667\n",
       "2020-04-19    186.900000\n",
       "2020-04-26    186.480000\n",
       "2020-05-03    186.450000\n",
       "2020-05-10    171.550000\n",
       "2020-05-17    168.160000\n",
       "2020-05-24    152.860000\n",
       "2020-05-31    157.375000\n",
       "2020-06-07    175.410000\n",
       "2020-06-14    183.050000\n",
       "2020-06-21    176.740000\n",
       "2020-06-28    186.920000\n",
       "2020-07-05    182.530000\n",
       "2020-07-12    192.650000\n",
       "2020-07-19    187.400000\n",
       "2020-07-26    193.470000\n",
       "2020-08-02    189.160000\n",
       "2020-08-09    191.380000\n",
       "Freq: W-SUN, Name: Price, dtype: float64"
      ]
     },
     "execution_count": 46,
     "metadata": {},
     "output_type": "execute_result"
    }
   ],
   "source": [
    "test"
   ]
  },
  {
   "cell_type": "markdown",
   "id": "581a0179",
   "metadata": {},
   "source": [
    "# Calculating MSE and RMSE"
   ]
  },
  {
   "cell_type": "code",
   "execution_count": 47,
   "id": "d055c1d6",
   "metadata": {},
   "outputs": [
    {
     "name": "stdout",
     "output_type": "stream",
     "text": [
      "MSE 131.9872928886584\n"
     ]
    }
   ],
   "source": [
    "print(\"MSE\", np.mean(np.square(test-fcast)))"
   ]
  },
  {
   "cell_type": "code",
   "execution_count": 48,
   "id": "5ff21cb1",
   "metadata": {},
   "outputs": [
    {
     "name": "stdout",
     "output_type": "stream",
     "text": [
      "RMSE 11.488572273727419\n"
     ]
    }
   ],
   "source": [
    "print(\"RMSE\", np.sqrt(np.mean(np.square(test-fcast))))"
   ]
  },
  {
   "cell_type": "code",
   "execution_count": null,
   "id": "12d58951",
   "metadata": {},
   "outputs": [],
   "source": []
  },
  {
   "cell_type": "code",
   "execution_count": null,
   "id": "f5850f1c",
   "metadata": {},
   "outputs": [],
   "source": []
  }
 ],
 "metadata": {
  "kernelspec": {
   "display_name": "Python 3",
   "language": "python",
   "name": "python3"
  },
  "language_info": {
   "codemirror_mode": {
    "name": "ipython",
    "version": 3
   },
   "file_extension": ".py",
   "mimetype": "text/x-python",
   "name": "python",
   "nbconvert_exporter": "python",
   "pygments_lexer": "ipython3",
   "version": "3.8.8"
  }
 },
 "nbformat": 4,
 "nbformat_minor": 5
}
